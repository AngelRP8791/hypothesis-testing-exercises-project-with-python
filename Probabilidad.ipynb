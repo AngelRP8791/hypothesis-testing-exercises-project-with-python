{
  "nbformat": 4,
  "nbformat_minor": 0,
  "metadata": {
    "colab": {
      "provenance": [],
      "authorship_tag": "ABX9TyNlvWzc6ldd4c9+bWxAfwNz",
      "include_colab_link": true
    },
    "kernelspec": {
      "name": "python3",
      "display_name": "Python 3"
    },
    "language_info": {
      "name": "python"
    }
  },
  "cells": [
    {
      "cell_type": "markdown",
      "metadata": {
        "id": "view-in-github",
        "colab_type": "text"
      },
      "source": [
        "<a href=\"https://colab.research.google.com/github/AngelRP8791/hypothesis-testing-exercises-project-with-python/blob/main/Probabilidad.ipynb\" target=\"_parent\"><img src=\"https://colab.research.google.com/assets/colab-badge.svg\" alt=\"Open In Colab\"/></a>"
      ]
    },
    {
      "cell_type": "code",
      "execution_count": null,
      "metadata": {
        "id": "6cQl41efD6sN"
      },
      "outputs": [],
      "source": []
    },
    {
      "cell_type": "code",
      "execution_count": null,
      "metadata": {
        "id": "nGX9z69lXJke"
      },
      "outputs": [],
      "source": [
        "## Ejercicio 1\n",
        "\n",
        "#Dos dados se lanzan una vez y se observa el total obtenido. Usa una simulación para encontrar la probabilidad estimada de\n",
        "# que la puntuación sea mayor a 7 o un número par. Una simulación es una repetición del mismo experimento\n",
        "# multiples veces para observar su comportamiento:\n",
        "\n",
        "#- Ejecuta el experimento 1000 veces (lanza 2 dados 1000 veces, y suma el número de ambos dados).\n",
        "#- Lleva ua cuenta de los números y las veces que la suma fue mayor a 7 o un número par.\n",
        "#- Divide el número del paso 2 entre el número de iteraciones(1000)."
      ]
    },
    {
      "cell_type": "code",
      "source": [
        "import random\n",
        "\n",
        "dados=[]\n",
        "\n",
        "lanzamientos = 1000\n",
        "\n",
        "counter1 = 0\n",
        "counter2 = 0\n",
        "#counter3 = 0\n",
        "\n",
        "for _ in range(lanzamientos):\n",
        "  dado1 = random.randint(1,6)\n",
        "  dado2 = random.randint(1,6)\n",
        "  suma = dado1 + dado2\n",
        "  dados.append(suma)\n",
        "\n",
        "  if suma > 7:\n",
        "    counter1 = counter1 + 1\n",
        "\n",
        "  elif suma%2==0:\n",
        "    counter2 = counter2 + 1\n",
        "  else:\n",
        "    counter3 = counter3 + 1\n",
        "\n",
        "print(counter1)\n",
        "print(counter2)\n",
        "#print(counter3)\n",
        "\n",
        "prob1 = (counter1 / lanzamientos)*100\n",
        "prob2 = (counter2 / lanzamientos)*100\n",
        "\n",
        "print(prob1)\n",
        "print(prob2)"
      ],
      "metadata": {
        "colab": {
          "base_uri": "https://localhost:8080/"
        },
        "id": "Nklb3Y-FXO4p",
        "outputId": "18322459-8892-4b4a-9d0f-3d48a199fe1c"
      },
      "execution_count": null,
      "outputs": [
        {
          "output_type": "stream",
          "name": "stdout",
          "text": [
            "425\n",
            "246\n",
            "329\n",
            "42.5\n",
            "24.6\n"
          ]
        }
      ]
    }
  ]
}