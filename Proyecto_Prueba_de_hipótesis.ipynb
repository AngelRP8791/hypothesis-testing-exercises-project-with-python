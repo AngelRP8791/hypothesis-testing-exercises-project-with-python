{
  "nbformat": 4,
  "nbformat_minor": 0,
  "metadata": {
    "colab": {
      "provenance": [],
      "authorship_tag": "ABX9TyNXYTEkDOROnQYLAd9Rx56u",
      "include_colab_link": true
    },
    "kernelspec": {
      "name": "python3",
      "display_name": "Python 3"
    },
    "language_info": {
      "name": "python"
    }
  },
  "cells": [
    {
      "cell_type": "markdown",
      "metadata": {
        "id": "view-in-github",
        "colab_type": "text"
      },
      "source": [
        "<a href=\"https://colab.research.google.com/github/AngelRP8791/hypothesis-testing-exercises-project-with-python/blob/main/Proyecto_Prueba_de_hip%C3%B3tesis.ipynb\" target=\"_parent\"><img src=\"https://colab.research.google.com/assets/colab-badge.svg\" alt=\"Open In Colab\"/></a>"
      ]
    },
    {
      "cell_type": "code",
      "source": [
        "#Ejercicio 1\n",
        "#Usted es un nutricionista que investiga dos tipos diferentes de dietas para ver si existe una diferencia\n",
        "#significativa en la pérdida de peso después de un mes. Eliges dos grupos aleatorios de personas;\n",
        "#un grupo sigue la primera dieta y el otro sigue la segunda. Al final del mes, se registra la pérdida de peso (en kg) de cada persona:\n",
        "\n",
        "#Diet 1\tDiet 2\n",
        "#2.0\t3.0\n",
        "#2.5\t3.2\n",
        "#3.0\t3.1\n",
        "#2.8\t2.9\n",
        "#2.3\t2.8\n",
        "#2.7\t3.0\n",
        "#2.5\t3.2\n",
        "\n",
        "#Con estos datos se busca responder a la siguiente pregunta: ¿Existe una diferencia significativa\n",
        "# en la pérdida de peso promedio entre las personas que siguieron la primera dieta y las que siguieron la segunda dieta?\n",
        "\n",
        "#Para sacar conclusiones, siga los siguientes puntos:\n",
        "\n",
        "#-Enunciar la hipótesis: hipótesis nula y alternativa.\n",
        "#-Realizar la prueba para comprobar la hipótesis.\n",
        "# Puede utilizar la prueba t de Student.\n",
        "# -Analizar las conclusiones."
      ],
      "metadata": {
        "id": "BtDrPNwadB6B"
      },
      "execution_count": null,
      "outputs": []
    },
    {
      "cell_type": "code",
      "source": [
        "import scipy\n",
        "\n",
        "dieta1 = [2, 2.5, 3, 2.8, 2.3, 2.7, 2.5]\n",
        "dieta2 = [3, 3.2, 3.1, 2.9, 2.8, 3.0, 3.2]\n",
        "\n",
        "scipy.stats.levene(dieta1,dieta2).pvalue\n",
        "\n",
        "t_stat, p = scipy.stats.ttest_ind(dieta1,dieta2, equal_var=True)\n",
        "\n",
        "print(f'Valor t-test igual a {round(p*100,2)}%, lo cual significa que existen diferencias significativas entre dieta 1 y dieta 2.')"
      ],
      "metadata": {
        "colab": {
          "base_uri": "https://localhost:8080/"
        },
        "id": "rOG3HA6MdurP",
        "outputId": "a8da3969-7de4-4d17-c855-4e3057b75818"
      },
      "execution_count": null,
      "outputs": [
        {
          "output_type": "stream",
          "name": "stdout",
          "text": [
            "Valor t-test igual a 0.41%, lo cual significa que existen diferencias significativas entre dieta 1 y dieta 2.\n"
          ]
        }
      ]
    },
    {
      "cell_type": "code",
      "source": [
        "#Un agricultor decide probar tres tipos diferentes de fertilizantes para determinar\n",
        "#si alguno es superior en términos de producción de maíz. El agricultor planta maíz en\n",
        "#15 parcelas idénticas y utiliza los tres fertilizantes (5 parcelas para cada tipo).\n",
        "#Al final de la temporada mide el rendimiento de maíz (en kg) de cada parcela, con el siguiente resultado:\n",
        "\n",
        "#Fertilizante 1\tFertilizante 2\tFertilizante 3\n",
        "#20\t22\t24\n",
        "#21\t21\t23\n",
        "#20\t23\t22\n",
        "#19\t22\t23\n",
        "#20\t21\t24\n",
        "\n",
        "#Con estos datos busca responder la siguiente pregunta:\n",
        "\n",
        "#¿Existe una\n",
        "#diferencia significativa en el rendimiento promedio del maíz entre los tres tipos de fertilizantes?\n",
        "\n",
        "#Para ayudarte, sigue los siguientes puntos:\n",
        "\n",
        "#-Enunciar la hipótesis: hipótesis nula y alternativa.\n",
        "#-Realizar la prueba ANOVA.\n",
        "#-Analizar las conclusiones.\n",
        "#-Si un fertilizante es mejor que otro, ¿cómo podemos saberlo?\n"
      ],
      "metadata": {
        "id": "e5BJGCsyiTCi"
      },
      "execution_count": null,
      "outputs": []
    },
    {
      "cell_type": "code",
      "source": [
        "import scipy\n",
        "import numpy as np\n",
        "\n",
        "lista1 = [20,21,20,19,20]\n",
        "lista2 = [22,21,23,22,21]\n",
        "lista3 = [24,23,22,23,24]\n",
        "\n",
        "# Ho  TODAS LAS MEDIAS SON IGUALES\n",
        "# Ha  AL MENOS DOS MEDIAS SON IGUALES\n",
        "\n",
        "print(sum(lista1)/len(lista1))\n",
        "print(sum(lista2)/len(lista2))\n",
        "print(sum(lista3)/len(lista3))\n",
        "\n",
        "p = scipy.stats.f_oneway(lista1, lista2, lista3).pvalue\n",
        "p\n",
        "\n",
        "print(f'El valor p es igual a {round(p*100,3)}%, queriendo decir que existen diferencias significativas en al menos un par de los tres fertilizantes.')\n",
        "\n",
        "# T-TEST:\n",
        "\n",
        "print(scipy.stats.levene(lista1,lista2).pvalue)\n",
        "print(scipy.stats.levene(lista1,lista3).pvalue)\n",
        "print(scipy.stats.levene(lista2,lista3).pvalue)\n",
        "\n",
        "t_stat, p1 = scipy.stats.ttest_ind(lista1,lista2, equal_var=True)\n",
        "t_stat, p2 = scipy.stats.ttest_ind(lista1,lista3, equal_var=True)\n",
        "t_stat, p3 = scipy.stats.ttest_ind(lista2,lista3, equal_var=True)\n",
        "\n",
        "print(p1,p2,p3)\n",
        "\n",
        "print(f'Segun t-test, los 3 fertilizantes tienen diferencias significativas, todos entre si')\n"
      ],
      "metadata": {
        "colab": {
          "base_uri": "https://localhost:8080/"
        },
        "id": "v8PmmO0pibwr",
        "outputId": "189b2924-140b-4d81-af97-4cbd81a17f12"
      },
      "execution_count": null,
      "outputs": [
        {
          "output_type": "stream",
          "name": "stdout",
          "text": [
            "20.0\n",
            "21.8\n",
            "23.2\n",
            "El valor p es igual a 0.014%, queriendo decir que existen diferencias significativas en al menos un par de los tres fertilizantes.\n",
            "0.5795839999999997\n",
            "0.5795839999999997\n",
            "1.0\n",
            "0.00627106210386409 0.0001818820830587626 0.029449305229110732\n",
            "Segun t-test, los 3 fertilizantes tienen diferencias significativas, todos entre si\n"
          ]
        }
      ]
    }
  ]
}